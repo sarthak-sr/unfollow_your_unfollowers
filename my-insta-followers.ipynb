{
 "cells": [
  {
   "cell_type": "markdown",
   "metadata": {},
   "source": [
    "# My Instagram unfollowers\n",
    "\n",
    "Instagram has removed the feature to collectively list the people who don't follow you back! The only way to check the same is by manually going on every profile and checking their followings.\n",
    "\n",
    "More detailed article on medium [here](https://medium.com/@sarthak_1997/unfollow-your-unfollowers-380636478bc1)."
   ]
  },
  {
   "cell_type": "markdown",
   "metadata": {},
   "source": [
    "## Installing Pre-requites"
   ]
  },
  {
   "cell_type": "code",
   "execution_count": 2,
   "metadata": {},
   "outputs": [],
   "source": [
    "!pip install requests --upgrade --quiet\n",
    "!pip install beautifulsoup4 --upgrade --quiet\n",
    "\n",
    "import os\n",
    "import requests\n",
    "from bs4 import BeautifulSoup"
   ]
  },
  {
   "cell_type": "markdown",
   "metadata": {},
   "source": [
    "## Upload the file from your instagram data."
   ]
  },
  {
   "cell_type": "code",
   "execution_count": 104,
   "metadata": {},
   "outputs": [],
   "source": [
    "file1 = open('followers_1.html', 'r')\n",
    "file2 = open('following.html', 'r')"
   ]
  },
  {
   "cell_type": "markdown",
   "metadata": {},
   "source": [
    "## Create a funtion for creating a list of usernames of your followers and following."
   ]
  },
  {
   "cell_type": "code",
   "execution_count": 105,
   "metadata": {},
   "outputs": [],
   "source": [
    "def list_creator(file1=file1, file2=file2):\n",
    "    \n",
    "    list1 = []\n",
    "    list2 = []\n",
    "    \n",
    "    doc=BeautifulSoup(file1, 'html.parser')\n",
    "    tag = doc.find_all('a')\n",
    "    for tags in tag:\n",
    "        list1.append(tags.text)   \n",
    "     \n",
    "    print('Total number of followers: {}'.format(len(list1)))\n",
    "\n",
    "\n",
    "    doc=BeautifulSoup(file2, 'html.parser')\n",
    "    tag = doc.find_all('a')\n",
    "    \n",
    "    for tags in tag:\n",
    "        list2.append(tags.text)\n",
    "    \n",
    "    print('Total number of following: {}'.format(len(list2)))   \n",
    "    \n",
    "    return(list1, list2)"
   ]
  },
  {
   "cell_type": "markdown",
   "metadata": {},
   "source": [
    "## Saving the result in a variable to compare. "
   ]
  },
  {
   "cell_type": "code",
   "execution_count": 106,
   "metadata": {},
   "outputs": [
    {
     "name": "stdout",
     "output_type": "stream",
     "text": [
      "Total number of followers: 734\n",
      "Total number of following: 668\n"
     ]
    }
   ],
   "source": [
    "testflow = list_creator()"
   ]
  },
  {
   "cell_type": "markdown",
   "metadata": {},
   "source": [
    "## Defining a comparator function. \n",
    "\n",
    "Creating a comparator function to compare the lists created by the previous functions, next step is to create another function to generate the links of the accounts which dont follow back. "
   ]
  },
  {
   "cell_type": "code",
   "execution_count": 44,
   "metadata": {},
   "outputs": [],
   "source": [
    "def comparator(fr,fg):\n",
    "    \n",
    "    dont_follow_back = []\n",
    "    c=0\n",
    "    \n",
    "    print(\"Followers: {} \".format(len(fr)))\n",
    "    print(\"Following: {} \".format(len(fg)))\n",
    "    \n",
    "    for f in fg:\n",
    "        if f not in fr:\n",
    "            dont_follow_back.append(f)\n",
    "            c = c+1\n",
    "\n",
    "            \n",
    "    print('There are {} accounts which you follow, but they dont follow you back :('.format(c))\n",
    "    \n",
    "    return(dont_follow_back)\n",
    "            \n",
    "    "
   ]
  },
  {
   "cell_type": "code",
   "execution_count": 133,
   "metadata": {},
   "outputs": [],
   "source": [
    "def links():\n",
    "    \n",
    "    link = comparator(followers, following)\n",
    "    \n",
    "    for l in link:\n",
    "        print(\"https://www.instagram.com/\"+l+\"/\")"
   ]
  },
  {
   "cell_type": "code",
   "execution_count": null,
   "metadata": {},
   "outputs": [],
   "source": [
    "#Run this cell to obtain output as per your profile.\n",
    "\n",
    "links()"
   ]
  },
  {
   "cell_type": "markdown",
   "metadata": {},
   "source": [
    "## Sample Output (for illustration purpose only.)"
   ]
  },
  {
   "cell_type": "code",
   "execution_count": 132,
   "metadata": {},
   "outputs": [
    {
     "name": "stdout",
     "output_type": "stream",
     "text": [
      "Followers: 668 \n",
      "Following: 734 \n",
      "There are 66 accounts which you follow, but they dont follow you back :(\n",
      "https://www.instagram.com/user668/\n",
      "https://www.instagram.com/user669/\n",
      "https://www.instagram.com/user670/\n",
      "https://www.instagram.com/user671/\n",
      "https://www.instagram.com/user672/\n",
      "https://www.instagram.com/user673/\n",
      "https://www.instagram.com/user674/\n",
      "https://www.instagram.com/user675/\n",
      "https://www.instagram.com/user676/\n",
      "https://www.instagram.com/user677/\n",
      "https://www.instagram.com/user678/\n",
      "https://www.instagram.com/user679/\n",
      "https://www.instagram.com/user680/\n",
      "https://www.instagram.com/user681/\n",
      "https://www.instagram.com/user682/\n",
      "https://www.instagram.com/user683/\n",
      "https://www.instagram.com/user684/\n",
      "https://www.instagram.com/user685/\n",
      "https://www.instagram.com/user686/\n",
      "https://www.instagram.com/user687/\n",
      "https://www.instagram.com/user688/\n",
      "https://www.instagram.com/user689/\n",
      "https://www.instagram.com/user690/\n",
      "https://www.instagram.com/user691/\n",
      "https://www.instagram.com/user692/\n",
      "https://www.instagram.com/user693/\n",
      "https://www.instagram.com/user694/\n",
      "https://www.instagram.com/user695/\n",
      "https://www.instagram.com/user696/\n",
      "https://www.instagram.com/user697/\n",
      "https://www.instagram.com/user698/\n",
      "https://www.instagram.com/user699/\n",
      "https://www.instagram.com/user700/\n",
      "https://www.instagram.com/user701/\n",
      "https://www.instagram.com/user702/\n",
      "https://www.instagram.com/user703/\n",
      "https://www.instagram.com/user704/\n",
      "https://www.instagram.com/user705/\n",
      "https://www.instagram.com/user706/\n",
      "https://www.instagram.com/user707/\n",
      "https://www.instagram.com/user708/\n",
      "https://www.instagram.com/user709/\n",
      "https://www.instagram.com/user710/\n",
      "https://www.instagram.com/user711/\n",
      "https://www.instagram.com/user712/\n",
      "https://www.instagram.com/user713/\n",
      "https://www.instagram.com/user714/\n",
      "https://www.instagram.com/user715/\n",
      "https://www.instagram.com/user716/\n",
      "https://www.instagram.com/user717/\n",
      "https://www.instagram.com/user718/\n",
      "https://www.instagram.com/user719/\n",
      "https://www.instagram.com/user720/\n",
      "https://www.instagram.com/user721/\n",
      "https://www.instagram.com/user722/\n",
      "https://www.instagram.com/user723/\n",
      "https://www.instagram.com/user724/\n",
      "https://www.instagram.com/user725/\n",
      "https://www.instagram.com/user726/\n",
      "https://www.instagram.com/user727/\n",
      "https://www.instagram.com/user728/\n",
      "https://www.instagram.com/user729/\n",
      "https://www.instagram.com/user730/\n",
      "https://www.instagram.com/user731/\n",
      "https://www.instagram.com/user732/\n",
      "https://www.instagram.com/user733/\n"
     ]
    }
   ],
   "source": [
    "links()"
   ]
  },
  {
   "cell_type": "markdown",
   "metadata": {},
   "source": [
    "### Hence we have the list of profiles, which dont follow us back. "
   ]
  }
 ],
 "metadata": {
  "kernelspec": {
   "display_name": "Python 3 (ipykernel)",
   "language": "python",
   "name": "python3"
  },
  "language_info": {
   "codemirror_mode": {
    "name": "ipython",
    "version": 3
   },
   "file_extension": ".py",
   "mimetype": "text/x-python",
   "name": "python",
   "nbconvert_exporter": "python",
   "pygments_lexer": "ipython3",
   "version": "3.9.7"
  }
 },
 "nbformat": 4,
 "nbformat_minor": 2
}
